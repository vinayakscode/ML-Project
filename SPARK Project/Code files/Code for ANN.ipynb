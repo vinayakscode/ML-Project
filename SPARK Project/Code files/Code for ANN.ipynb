{
 "cells": [
  {
   "cell_type": "code",
   "execution_count": 1,
   "id": "5cba83e4",
   "metadata": {},
   "outputs": [],
   "source": [
    "# Importing various libraries\n",
    "import numpy as np\n",
    "import pandas as pd\n",
    "from pandas import read_csv\n",
    "from pandas.plotting import scatter_matrix\n",
    "from matplotlib import pyplot\n",
    "from sklearn.model_selection import train_test_split\n",
    "from sklearn.model_selection import cross_val_score\n",
    "from sklearn.model_selection import StratifiedKFold\n",
    "from sklearn.metrics import classification_report\n",
    "from sklearn.metrics import confusion_matrix\n",
    "from sklearn.metrics import accuracy_score"
   ]
  },
  {
   "cell_type": "code",
   "execution_count": 2,
   "id": "d15c250c",
   "metadata": {},
   "outputs": [],
   "source": [
    "# Import Data\n",
    "df = pd.read_csv('Landslide_ANN.csv')"
   ]
  },
  {
   "cell_type": "code",
   "execution_count": 3,
   "id": "332b240a",
   "metadata": {},
   "outputs": [
    {
     "data": {
      "text/html": [
       "<div>\n",
       "<style scoped>\n",
       "    .dataframe tbody tr th:only-of-type {\n",
       "        vertical-align: middle;\n",
       "    }\n",
       "\n",
       "    .dataframe tbody tr th {\n",
       "        vertical-align: top;\n",
       "    }\n",
       "\n",
       "    .dataframe thead th {\n",
       "        text-align: right;\n",
       "    }\n",
       "</style>\n",
       "<table border=\"1\" class=\"dataframe\">\n",
       "  <thead>\n",
       "    <tr style=\"text-align: right;\">\n",
       "      <th></th>\n",
       "      <th>Activity</th>\n",
       "      <th>Trigger and reason</th>\n",
       "      <th>Material</th>\n",
       "      <th>Movement</th>\n",
       "      <th>Hydrological</th>\n",
       "      <th>Landuse</th>\n",
       "      <th>Geoscientific reason</th>\n",
       "      <th>Landslide volume</th>\n",
       "      <th>Cummulative Rainfall</th>\n",
       "      <th>Rainfall Intensity</th>\n",
       "      <th>Landslide predictability</th>\n",
       "    </tr>\n",
       "  </thead>\n",
       "  <tbody>\n",
       "    <tr>\n",
       "      <th>0</th>\n",
       "      <td>1</td>\n",
       "      <td>2</td>\n",
       "      <td>1</td>\n",
       "      <td>3</td>\n",
       "      <td>1</td>\n",
       "      <td>6</td>\n",
       "      <td>1</td>\n",
       "      <td>0</td>\n",
       "      <td>40.0</td>\n",
       "      <td>0.25</td>\n",
       "      <td>20</td>\n",
       "    </tr>\n",
       "    <tr>\n",
       "      <th>1</th>\n",
       "      <td>2</td>\n",
       "      <td>1</td>\n",
       "      <td>3</td>\n",
       "      <td>2</td>\n",
       "      <td>4</td>\n",
       "      <td>2</td>\n",
       "      <td>1</td>\n",
       "      <td>200000</td>\n",
       "      <td>133.5</td>\n",
       "      <td>0.46</td>\n",
       "      <td>100</td>\n",
       "    </tr>\n",
       "    <tr>\n",
       "      <th>2</th>\n",
       "      <td>1</td>\n",
       "      <td>2</td>\n",
       "      <td>6</td>\n",
       "      <td>3</td>\n",
       "      <td>1</td>\n",
       "      <td>2</td>\n",
       "      <td>1</td>\n",
       "      <td>0</td>\n",
       "      <td>70.0</td>\n",
       "      <td>0.40</td>\n",
       "      <td>70</td>\n",
       "    </tr>\n",
       "    <tr>\n",
       "      <th>3</th>\n",
       "      <td>1</td>\n",
       "      <td>2</td>\n",
       "      <td>3</td>\n",
       "      <td>2</td>\n",
       "      <td>4</td>\n",
       "      <td>2</td>\n",
       "      <td>1</td>\n",
       "      <td>1000</td>\n",
       "      <td>55.0</td>\n",
       "      <td>0.30</td>\n",
       "      <td>60</td>\n",
       "    </tr>\n",
       "    <tr>\n",
       "      <th>4</th>\n",
       "      <td>1</td>\n",
       "      <td>3</td>\n",
       "      <td>3</td>\n",
       "      <td>4</td>\n",
       "      <td>6</td>\n",
       "      <td>3</td>\n",
       "      <td>1</td>\n",
       "      <td>3000</td>\n",
       "      <td>45.0</td>\n",
       "      <td>0.50</td>\n",
       "      <td>40</td>\n",
       "    </tr>\n",
       "  </tbody>\n",
       "</table>\n",
       "</div>"
      ],
      "text/plain": [
       "   Activity  Trigger and reason  Material  Movement  Hydrological  Landuse  \\\n",
       "0         1                   2         1         3             1        6   \n",
       "1         2                   1         3         2             4        2   \n",
       "2         1                   2         6         3             1        2   \n",
       "3         1                   2         3         2             4        2   \n",
       "4         1                   3         3         4             6        3   \n",
       "\n",
       "   Geoscientific reason  Landslide volume  Cummulative Rainfall  \\\n",
       "0                     1                 0                  40.0   \n",
       "1                     1            200000                 133.5   \n",
       "2                     1                 0                  70.0   \n",
       "3                     1              1000                  55.0   \n",
       "4                     1              3000                  45.0   \n",
       "\n",
       "   Rainfall Intensity  Landslide predictability  \n",
       "0                0.25                        20  \n",
       "1                0.46                       100  \n",
       "2                0.40                        70  \n",
       "3                0.30                        60  \n",
       "4                0.50                        40  "
      ]
     },
     "execution_count": 3,
     "metadata": {},
     "output_type": "execute_result"
    }
   ],
   "source": [
    "df.head()"
   ]
  },
  {
   "cell_type": "code",
   "execution_count": 4,
   "id": "ffc353ce",
   "metadata": {},
   "outputs": [],
   "source": [
    "X=df[['Activity','Trigger and reason','Material','Movement','Hydrological','Landuse','Geoscientific reason','Landslide volume','Cummulative Rainfall','Rainfall Intensity']]"
   ]
  },
  {
   "cell_type": "code",
   "execution_count": 5,
   "id": "d8005896",
   "metadata": {},
   "outputs": [],
   "source": [
    "y=df[['Landslide predictability']]"
   ]
  },
  {
   "cell_type": "code",
   "execution_count": 6,
   "id": "9b4c3637",
   "metadata": {},
   "outputs": [
    {
     "data": {
      "text/plain": [
       "((199, 10), (199, 1))"
      ]
     },
     "execution_count": 6,
     "metadata": {},
     "output_type": "execute_result"
    }
   ],
   "source": [
    "X.shape,y.shape"
   ]
  },
  {
   "cell_type": "code",
   "execution_count": 7,
   "id": "fa2a4da0",
   "metadata": {},
   "outputs": [],
   "source": [
    "from keras import models\n",
    "from keras import layers\n",
    "from keras import optimizers\n"
   ]
  },
  {
   "cell_type": "code",
   "execution_count": 8,
   "id": "50183c3d",
   "metadata": {},
   "outputs": [],
   "source": [
    "network = models.Sequential()\n",
    "network.add(layers.Dense(24, activation='relu', input_shape=(10,)))\n",
    "network.add(layers.Dense(32, activation='relu'))\n",
    "network.add(layers.Dense(1))"
   ]
  },
  {
   "cell_type": "code",
   "execution_count": 13,
   "id": "52ee4ae7",
   "metadata": {},
   "outputs": [
    {
     "name": "stdout",
     "output_type": "stream",
     "text": [
      "Requirement already satisfied: keras in c:\\users\\ajite\\anaconda3\\lib\\site-packages (2.4.3)\n",
      "Requirement already satisfied: scipy>=0.14 in c:\\users\\ajite\\anaconda3\\lib\\site-packages (from keras) (1.6.2)\n",
      "Requirement already satisfied: h5py in c:\\users\\ajite\\appdata\\roaming\\python\\python38\\site-packages (from keras) (3.1.0)\n",
      "Requirement already satisfied: numpy>=1.9.1 in c:\\users\\ajite\\anaconda3\\lib\\site-packages (from keras) (1.19.5)\n",
      "Requirement already satisfied: pyyaml in c:\\users\\ajite\\anaconda3\\lib\\site-packages (from keras) (5.4.1)\n",
      "Note: you may need to restart the kernel to use updated packages.\n"
     ]
    }
   ],
   "source": [
    "\n",
    "pip install keras"
   ]
  },
  {
   "cell_type": "code",
   "execution_count": 14,
   "id": "9f73c318",
   "metadata": {},
   "outputs": [],
   "source": [
    "from keras import models\n",
    "from keras import layers\n",
    "from keras import optimizers\n"
   ]
  },
  {
   "cell_type": "code",
   "execution_count": 16,
   "id": "58efdf3e",
   "metadata": {},
   "outputs": [],
   "source": [
    "X_train, X_test, y_train, y_test = train_test_split(X, y, test_size=0.3, random_state=42)"
   ]
  },
  {
   "cell_type": "code",
   "execution_count": 25,
   "id": "f118c6be",
   "metadata": {},
   "outputs": [
    {
     "ename": "AttributeError",
     "evalue": "module 'keras.optimizers' has no attribute 'RMSprop'",
     "output_type": "error",
     "traceback": [
      "\u001b[1;31m---------------------------------------------------------------------------\u001b[0m",
      "\u001b[1;31mAttributeError\u001b[0m                            Traceback (most recent call last)",
      "\u001b[1;32m<ipython-input-25-034033a47eca>\u001b[0m in \u001b[0;36m<module>\u001b[1;34m\u001b[0m\n\u001b[1;32m----> 1\u001b[1;33m \u001b[0mnetwork\u001b[0m\u001b[1;33m.\u001b[0m\u001b[0mcompile\u001b[0m\u001b[1;33m(\u001b[0m\u001b[0mloss\u001b[0m\u001b[1;33m=\u001b[0m\u001b[1;34m'mse'\u001b[0m\u001b[1;33m,\u001b[0m \u001b[0moptimizer\u001b[0m\u001b[1;33m=\u001b[0m\u001b[0moptimizers\u001b[0m\u001b[1;33m.\u001b[0m\u001b[0mRMSprop\u001b[0m\u001b[1;33m(\u001b[0m\u001b[0mlr\u001b[0m\u001b[1;33m=\u001b[0m\u001b[1;36m0.01\u001b[0m\u001b[1;33m)\u001b[0m\u001b[1;33m,\u001b[0m \u001b[0mmetrics\u001b[0m\u001b[1;33m=\u001b[0m\u001b[1;33m[\u001b[0m\u001b[1;34m'mae'\u001b[0m\u001b[1;33m]\u001b[0m\u001b[1;33m)\u001b[0m\u001b[1;33m\u001b[0m\u001b[1;33m\u001b[0m\u001b[0m\n\u001b[0m",
      "\u001b[1;31mAttributeError\u001b[0m: module 'keras.optimizers' has no attribute 'RMSprop'"
     ]
    }
   ],
   "source": []
  },
  {
   "cell_type": "code",
   "execution_count": 22,
   "id": "ea1be51a",
   "metadata": {},
   "outputs": [
    {
     "name": "stdout",
     "output_type": "stream",
     "text": [
      "Epoch 1/18\n",
      "7/7 [==============================] - 12s 62ms/step - loss: 738.7959 - accuracy: 0.0000e+00 - val_loss: 783.5873 - val_accuracy: 0.0000e+00\n",
      "Epoch 2/18\n",
      "7/7 [==============================] - 0s 3ms/step - loss: 735.0489 - accuracy: 0.0000e+00 - val_loss: 783.5873 - val_accuracy: 0.0000e+00\n",
      "Epoch 3/18\n",
      "7/7 [==============================] - 0s 3ms/step - loss: 691.5747 - accuracy: 0.0000e+00 - val_loss: 783.5873 - val_accuracy: 0.0000e+00\n",
      "Epoch 4/18\n",
      "7/7 [==============================] - 0s 3ms/step - loss: 746.0537 - accuracy: 0.0000e+00 - val_loss: 783.5873 - val_accuracy: 0.0000e+00\n",
      "Epoch 5/18\n",
      "7/7 [==============================] - 0s 2ms/step - loss: 734.6264 - accuracy: 0.0000e+00 - val_loss: 783.5873 - val_accuracy: 0.0000e+00\n",
      "Epoch 6/18\n",
      "7/7 [==============================] - 0s 3ms/step - loss: 691.0734 - accuracy: 0.0000e+00 - val_loss: 783.5873 - val_accuracy: 0.0000e+00\n",
      "Epoch 7/18\n",
      "7/7 [==============================] - 0s 3ms/step - loss: 765.2256 - accuracy: 0.0000e+00 - val_loss: 783.5873 - val_accuracy: 0.0000e+00\n",
      "Epoch 8/18\n",
      "7/7 [==============================] - 0s 3ms/step - loss: 750.5671 - accuracy: 0.0000e+00 - val_loss: 783.5873 - val_accuracy: 0.0000e+00\n",
      "Epoch 9/18\n",
      "7/7 [==============================] - 0s 3ms/step - loss: 762.9633 - accuracy: 0.0000e+00 - val_loss: 783.5873 - val_accuracy: 0.0000e+00\n",
      "Epoch 10/18\n",
      "7/7 [==============================] - 0s 3ms/step - loss: 734.9477 - accuracy: 0.0000e+00 - val_loss: 783.5873 - val_accuracy: 0.0000e+00\n",
      "Epoch 11/18\n",
      "7/7 [==============================] - 0s 3ms/step - loss: 710.6229 - accuracy: 0.0000e+00 - val_loss: 783.5873 - val_accuracy: 0.0000e+00\n",
      "Epoch 12/18\n",
      "7/7 [==============================] - 0s 3ms/step - loss: 763.5032 - accuracy: 0.0000e+00 - val_loss: 783.5873 - val_accuracy: 0.0000e+00\n",
      "Epoch 13/18\n",
      "7/7 [==============================] - 0s 3ms/step - loss: 745.6439 - accuracy: 0.0000e+00 - val_loss: 783.5873 - val_accuracy: 0.0000e+00\n",
      "Epoch 14/18\n",
      "7/7 [==============================] - 0s 3ms/step - loss: 765.5229 - accuracy: 0.0000e+00 - val_loss: 783.5873 - val_accuracy: 0.0000e+00\n",
      "Epoch 15/18\n",
      "7/7 [==============================] - 0s 3ms/step - loss: 732.4299 - accuracy: 0.0000e+00 - val_loss: 783.5873 - val_accuracy: 0.0000e+00\n",
      "Epoch 16/18\n",
      "7/7 [==============================] - 0s 3ms/step - loss: 707.6376 - accuracy: 0.0000e+00 - val_loss: 783.5873 - val_accuracy: 0.0000e+00\n",
      "Epoch 17/18\n",
      "7/7 [==============================] - 0s 3ms/step - loss: 716.6033 - accuracy: 0.0000e+00 - val_loss: 783.5873 - val_accuracy: 0.0000e+00\n",
      "Epoch 18/18\n",
      "7/7 [==============================] - 0s 3ms/step - loss: 705.1840 - accuracy: 0.0000e+00 - val_loss: 783.5873 - val_accuracy: 0.0000e+00\n"
     ]
    }
   ],
   "source": []
  },
  {
   "cell_type": "code",
   "execution_count": 23,
   "id": "92c494a2",
   "metadata": {},
   "outputs": [
    {
     "name": "stdout",
     "output_type": "stream",
     "text": [
      "7/7 [==============================] - 0s 831us/step - loss: 752.0244 - accuracy: 0.0000e+00\n"
     ]
    },
    {
     "ename": "TypeError",
     "evalue": "must be real number, not list",
     "output_type": "error",
     "traceback": [
      "\u001b[1;31m---------------------------------------------------------------------------\u001b[0m",
      "\u001b[1;31mTypeError\u001b[0m                                 Traceback (most recent call last)",
      "\u001b[1;32m<ipython-input-23-f76b6c3becf7>\u001b[0m in \u001b[0;36m<module>\u001b[1;34m\u001b[0m\n\u001b[0;32m      1\u001b[0m \u001b[0maccuracy\u001b[0m \u001b[1;33m=\u001b[0m \u001b[0mnetwork\u001b[0m\u001b[1;33m.\u001b[0m\u001b[0mevaluate\u001b[0m\u001b[1;33m(\u001b[0m\u001b[0mX\u001b[0m\u001b[1;33m,\u001b[0m \u001b[0my\u001b[0m\u001b[1;33m)\u001b[0m\u001b[1;33m\u001b[0m\u001b[1;33m\u001b[0m\u001b[0m\n\u001b[1;32m----> 2\u001b[1;33m \u001b[0mprint\u001b[0m\u001b[1;33m(\u001b[0m\u001b[1;34m'Accuracy: %.2f'\u001b[0m \u001b[1;33m%\u001b[0m \u001b[1;33m(\u001b[0m\u001b[0maccuracy\u001b[0m\u001b[1;33m*\u001b[0m\u001b[1;36m100\u001b[0m\u001b[1;33m)\u001b[0m\u001b[1;33m)\u001b[0m\u001b[1;33m\u001b[0m\u001b[1;33m\u001b[0m\u001b[0m\n\u001b[0m",
      "\u001b[1;31mTypeError\u001b[0m: must be real number, not list"
     ]
    }
   ],
   "source": [
    "accuracy = network.evaluate(X, y)\n",
    "print('Accuracy: %.2f' % (accuracy*100))"
   ]
  },
  {
   "cell_type": "code",
   "execution_count": null,
   "id": "234239a3",
   "metadata": {},
   "outputs": [],
   "source": []
  }
 ],
 "metadata": {
  "kernelspec": {
   "display_name": "Python 3",
   "language": "python",
   "name": "python3"
  },
  "language_info": {
   "codemirror_mode": {
    "name": "ipython",
    "version": 3
   },
   "file_extension": ".py",
   "mimetype": "text/x-python",
   "name": "python",
   "nbconvert_exporter": "python",
   "pygments_lexer": "ipython3",
   "version": "3.8.8"
  }
 },
 "nbformat": 4,
 "nbformat_minor": 5
}
