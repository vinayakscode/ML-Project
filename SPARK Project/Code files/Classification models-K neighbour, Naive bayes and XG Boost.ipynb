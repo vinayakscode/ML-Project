{
 "cells": [
  {
   "cell_type": "markdown",
   "id": "9b620323",
   "metadata": {},
   "source": [
    "# So now we have done Data analysis and Visualozations.Lets start making some predictions .\n",
    "\n",
    "# First of all we will be using the most successful ML algorithms in which target variable has been classified into three categories-\n",
    "## 0-No chance of occuring of a Landslide\n",
    "## 1-Small Landslide may occur\n",
    "## 2-very high chances of a large Landslide\n",
    "\n",
    "## Lets dice deep into our code and how we trained the classification models."
   ]
  },
  {
   "cell_type": "code",
   "execution_count": 1,
   "id": "02e1253d",
   "metadata": {},
   "outputs": [],
   "source": [
    "#Importing all the required libraries\n",
    "import numpy as np\n",
    "import pandas as pd\n",
    "import matplotlib.pyplot as plt\n",
    "from matplotlib import style\n",
    "import seaborn as sns\n",
    "sns.set_style('whitegrid')\n",
    "\n",
    "from sklearn.model_selection import train_test_split, cross_val_predict\n",
    "from sklearn.svm import SVC\n",
    "from sklearn.ensemble import RandomForestClassifier\n",
    "from sklearn.linear_model import SGDClassifier\n",
    "from sklearn.neighbors import KNeighborsClassifier\n",
    "from sklearn.naive_bayes import GaussianNB\n",
    "from sklearn.decomposition import PCA\n",
    "from xgboost import XGBClassifier\n",
    "from sklearn.preprocessing import LabelEncoder, MinMaxScaler\n",
    "from sklearn.metrics import confusion_matrix, precision_score, recall_score, f1_score\n",
    "import time\n",
    "import warnings\n",
    "warnings.filterwarnings(\"ignore\", category=DeprecationWarning)\n",
    "%matplotlib inline\n",
    "\n",
    "SMALL_SIZE = 10\n",
    "MEDIUM_SIZE = 12\n",
    "\n",
    "plt.rc('font', size=SMALL_SIZE)\n",
    "plt.rc('axes', titlesize=MEDIUM_SIZE)\n",
    "plt.rc('axes', labelsize=MEDIUM_SIZE)\n",
    "plt.rcParams['figure.dpi']=150"
   ]
  },
  {
   "cell_type": "code",
   "execution_count": 2,
   "id": "d2b9fa89",
   "metadata": {},
   "outputs": [],
   "source": [
    "#Importing Datset\n",
    "sdss_df = pd.read_csv('Classification2 - Sheet1.csv')"
   ]
  },
  {
   "cell_type": "code",
   "execution_count": 3,
   "id": "93a308db",
   "metadata": {},
   "outputs": [
    {
     "data": {
      "text/html": [
       "<div>\n",
       "<style scoped>\n",
       "    .dataframe tbody tr th:only-of-type {\n",
       "        vertical-align: middle;\n",
       "    }\n",
       "\n",
       "    .dataframe tbody tr th {\n",
       "        vertical-align: top;\n",
       "    }\n",
       "\n",
       "    .dataframe thead th {\n",
       "        text-align: right;\n",
       "    }\n",
       "</style>\n",
       "<table border=\"1\" class=\"dataframe\">\n",
       "  <thead>\n",
       "    <tr style=\"text-align: right;\">\n",
       "      <th></th>\n",
       "      <th>Activity</th>\n",
       "      <th>Trigger and reason</th>\n",
       "      <th>Length</th>\n",
       "      <th>Width</th>\n",
       "      <th>Height</th>\n",
       "      <th>Material</th>\n",
       "      <th>Movement</th>\n",
       "      <th>Hydrological</th>\n",
       "      <th>Landuse</th>\n",
       "      <th>Geoscientific reason</th>\n",
       "      <th>Landslide volume</th>\n",
       "      <th>Cummulative Rainfall</th>\n",
       "      <th>Rainfall Intensity</th>\n",
       "      <th>Product</th>\n",
       "      <th>Landslide predictability</th>\n",
       "    </tr>\n",
       "  </thead>\n",
       "  <tbody>\n",
       "    <tr>\n",
       "      <th>0</th>\n",
       "      <td>1</td>\n",
       "      <td>2</td>\n",
       "      <td>20</td>\n",
       "      <td>30</td>\n",
       "      <td>20</td>\n",
       "      <td>1</td>\n",
       "      <td>3</td>\n",
       "      <td>1</td>\n",
       "      <td>6</td>\n",
       "      <td>1</td>\n",
       "      <td>150</td>\n",
       "      <td>40.0</td>\n",
       "      <td>0.25</td>\n",
       "      <td>10.00</td>\n",
       "      <td>0</td>\n",
       "    </tr>\n",
       "    <tr>\n",
       "      <th>1</th>\n",
       "      <td>2</td>\n",
       "      <td>1</td>\n",
       "      <td>150</td>\n",
       "      <td>700</td>\n",
       "      <td>150</td>\n",
       "      <td>3</td>\n",
       "      <td>2</td>\n",
       "      <td>4</td>\n",
       "      <td>2</td>\n",
       "      <td>1</td>\n",
       "      <td>200000</td>\n",
       "      <td>133.5</td>\n",
       "      <td>0.46</td>\n",
       "      <td>61.41</td>\n",
       "      <td>2</td>\n",
       "    </tr>\n",
       "    <tr>\n",
       "      <th>2</th>\n",
       "      <td>1</td>\n",
       "      <td>2</td>\n",
       "      <td>40</td>\n",
       "      <td>70</td>\n",
       "      <td>40</td>\n",
       "      <td>6</td>\n",
       "      <td>3</td>\n",
       "      <td>1</td>\n",
       "      <td>2</td>\n",
       "      <td>1</td>\n",
       "      <td>600</td>\n",
       "      <td>40.0</td>\n",
       "      <td>0.40</td>\n",
       "      <td>16.00</td>\n",
       "      <td>0</td>\n",
       "    </tr>\n",
       "    <tr>\n",
       "      <th>3</th>\n",
       "      <td>1</td>\n",
       "      <td>2</td>\n",
       "      <td>40</td>\n",
       "      <td>10</td>\n",
       "      <td>40</td>\n",
       "      <td>3</td>\n",
       "      <td>2</td>\n",
       "      <td>4</td>\n",
       "      <td>2</td>\n",
       "      <td>1</td>\n",
       "      <td>1000</td>\n",
       "      <td>55.0</td>\n",
       "      <td>0.70</td>\n",
       "      <td>38.50</td>\n",
       "      <td>1</td>\n",
       "    </tr>\n",
       "    <tr>\n",
       "      <th>4</th>\n",
       "      <td>1</td>\n",
       "      <td>3</td>\n",
       "      <td>25</td>\n",
       "      <td>35</td>\n",
       "      <td>25</td>\n",
       "      <td>3</td>\n",
       "      <td>4</td>\n",
       "      <td>6</td>\n",
       "      <td>3</td>\n",
       "      <td>1</td>\n",
       "      <td>3000</td>\n",
       "      <td>45.0</td>\n",
       "      <td>0.50</td>\n",
       "      <td>22.50</td>\n",
       "      <td>1</td>\n",
       "    </tr>\n",
       "  </tbody>\n",
       "</table>\n",
       "</div>"
      ],
      "text/plain": [
       "   Activity  Trigger and reason  Length  Width  Height  Material  Movement  \\\n",
       "0         1                   2      20     30      20         1         3   \n",
       "1         2                   1     150    700     150         3         2   \n",
       "2         1                   2      40     70      40         6         3   \n",
       "3         1                   2      40     10      40         3         2   \n",
       "4         1                   3      25     35      25         3         4   \n",
       "\n",
       "   Hydrological  Landuse  Geoscientific reason  Landslide volume  \\\n",
       "0             1        6                     1               150   \n",
       "1             4        2                     1            200000   \n",
       "2             1        2                     1               600   \n",
       "3             4        2                     1              1000   \n",
       "4             6        3                     1              3000   \n",
       "\n",
       "   Cummulative Rainfall  Rainfall Intensity  Product  Landslide predictability  \n",
       "0                  40.0                0.25    10.00                         0  \n",
       "1                 133.5                0.46    61.41                         2  \n",
       "2                  40.0                0.40    16.00                         0  \n",
       "3                  55.0                0.70    38.50                         1  \n",
       "4                  45.0                0.50    22.50                         1  "
      ]
     },
     "execution_count": 3,
     "metadata": {},
     "output_type": "execute_result"
    }
   ],
   "source": [
    "sdss_df.head()"
   ]
  },
  {
   "cell_type": "markdown",
   "id": "eccad180",
   "metadata": {},
   "source": [
    "# Now we see whether the target variable is present in almost equal proportions or not because only then the models will be able to give good results"
   ]
  },
  {
   "cell_type": "code",
   "execution_count": 4,
   "id": "e9e23494",
   "metadata": {},
   "outputs": [
    {
     "data": {
      "text/plain": [
       "1    74\n",
       "0    71\n",
       "2    52\n",
       "3     1\n",
       "5     1\n",
       "Name: Landslide predictability, dtype: int64"
      ]
     },
     "execution_count": 4,
     "metadata": {},
     "output_type": "execute_result"
    }
   ],
   "source": [
    "sdss_df['Landslide predictability'].value_counts()"
   ]
  },
  {
   "cell_type": "markdown",
   "id": "ee8f8f2d",
   "metadata": {},
   "source": [
    "# Now the most Important part in case of classification models is that all variales should be scaled.So we will be using MinmaxScaler function for that"
   ]
  },
  {
   "cell_type": "code",
   "execution_count": 5,
   "id": "4ba266bd",
   "metadata": {},
   "outputs": [],
   "source": [
    "scaler = MinMaxScaler()\n",
    "sdss = scaler.fit_transform(sdss_df.drop('Landslide predictability', axis=1))"
   ]
  },
  {
   "cell_type": "code",
   "execution_count": 6,
   "id": "ca959e3c",
   "metadata": {},
   "outputs": [
    {
     "data": {
      "text/plain": [
       "array([[0.        , 0.2       , 0.06060606, ..., 0.14285714, 0.02777778,\n",
       "        0.04028436],\n",
       "       [0.5       , 0.        , 0.45454545, ..., 0.5244898 , 0.14444444,\n",
       "        0.28393365],\n",
       "       [0.        , 0.2       , 0.12121212, ..., 0.14285714, 0.11111111,\n",
       "        0.06872038],\n",
       "       ...,\n",
       "       [0.        , 0.6       , 0.03030303, ..., 0.10204082, 0.32777778,\n",
       "        0.10521327],\n",
       "       [0.5       , 0.6       , 0.06060606, ..., 0.06938776, 0.27777778,\n",
       "        0.06587678],\n",
       "       [1.        , 0.        , 0.06060606, ..., 0.06938776, 0.27777778,\n",
       "        0.06587678]])"
      ]
     },
     "execution_count": 6,
     "metadata": {},
     "output_type": "execute_result"
    }
   ],
   "source": [
    "sdss"
   ]
  },
  {
   "cell_type": "markdown",
   "id": "8cfba1ae",
   "metadata": {},
   "source": [
    "## We see that all the features except the target variable have been scaled in range of 0-1.Now we will be spillting the train and test in ratio of 67 and 33 .\n",
    "\n",
    "## Note that all variables apart from target one is taken in input feature X_train"
   ]
  },
  {
   "cell_type": "code",
   "execution_count": 7,
   "id": "7e334937",
   "metadata": {},
   "outputs": [],
   "source": [
    "X_train, X_test, y_train, y_test = train_test_split(sdss, sdss_df['Landslide predictability'], test_size=0.33)"
   ]
  },
  {
   "cell_type": "markdown",
   "id": "f86d88a8",
   "metadata": {},
   "source": [
    "# So the first classification algorithm we are going to use is K Neighbours Classifier.First lets understand how it works."
   ]
  },
  {
   "cell_type": "markdown",
   "id": "1445551a",
   "metadata": {},
   "source": [
    "### K-Nearest Neighbour is one of the simplest Machine Learning algorithms based on Supervised Learning technique.\n",
    "### K-NN algorithm assumes the similarity between the new case/data and available cases and put the new case into the category that is most similar to the available categories.\n",
    "### K-NN algorithm stores all the available data and classifies a new data point based on the similarity. This means when new data appears then it can be easily classified into a well suite category by using K- NN algorithm."
   ]
  },
  {
   "attachments": {
    "0_sLSIlZXvKxGt-UXM.png": {
     "image/png": "[encoded data removed]"
    }
   },
   "cell_type": "markdown",
   "id": "2f08a220",
   "metadata": {},
   "source": [
    "## Can be very easily understood with the help of this image![0_sLSIlZXvKxGt-UXM.png](attachment:0_sLSIlZXvKxGt-UXM.png)"
   ]
  },
  {
   "cell_type": "markdown",
   "id": "b28325b4",
   "metadata": {},
   "source": [
    "# So in below code snippet we have trained k neighbour classifier model and mad epredictions on target variable using it.\n",
    "# We have also calculated the accuracy with which the model is working"
   ]
  },
  {
   "cell_type": "code",
   "execution_count": 8,
   "id": "210d0db1",
   "metadata": {},
   "outputs": [
    {
     "name": "stdout",
     "output_type": "stream",
     "text": [
      "Scikit-Learn's K Nearest Neighbors Classifier's prediction accuracy is: 65.15\n",
      "Time consumed for training: 0.010 seconds\n",
      "Time consumed for prediction: 0.00430 seconds\n"
     ]
    }
   ],
   "source": [
    "knn = KNeighborsClassifier()\n",
    "training_start = time.perf_counter()\n",
    "knn.fit(X_train, y_train)\n",
    "training_end = time.perf_counter()\n",
    "prediction_start = time.perf_counter()\n",
    "preds = knn.predict(X_test)\n",
    "prediction_end = time.perf_counter()\n",
    "acc_knn = (preds == y_test).sum().astype(float) / len(preds)*100\n",
    "knn_train_time = training_end-training_start\n",
    "knn_prediction_time = prediction_end-prediction_start\n",
    "print(\"Scikit-Learn's K Nearest Neighbors Classifier's prediction accuracy is: %3.2f\" % (acc_knn))\n",
    "print(\"Time consumed for training: %4.3f seconds\" % (knn_train_time))\n",
    "print(\"Time consumed for prediction: %6.5f seconds\" % (knn_prediction_time))"
   ]
  },
  {
   "cell_type": "code",
   "execution_count": 9,
   "id": "821dd481",
   "metadata": {},
   "outputs": [],
   "source": [
    "## We are getting accuracy of 65.15 percent.This is not a very great accuracy score and it is because of the reason that k neighbour classifier works best with less input features and we will try to tune it later and see which variables are most important."
   ]
  },
  {
   "cell_type": "markdown",
   "id": "9216b9c5",
   "metadata": {},
   "source": [
    "## Next classification model we are going to use is Naive Bayes method"
   ]
  },
  {
   "cell_type": "markdown",
   "id": "c7f84a76",
   "metadata": {},
   "source": [
    "## Naive Bayes is a probabilistic machine learning algorithm that can be used in a wide variety of classification tasks. The name naive is used because it assumes the features that go into the model is independent of each other."
   ]
  },
  {
   "attachments": {
    "04_naive_bayes_interpretation_new-1024x550.webp": {
     "image/webp": "[encoded data removed]"
    }
   },
   "cell_type": "markdown",
   "id": "124debe5",
   "metadata": {},
   "source": [
    "![04_naive_bayes_interpretation_new-1024x550.webp](attachment:04_naive_bayes_interpretation_new-1024x550.webp)"
   ]
  },
  {
   "cell_type": "markdown",
   "id": "a3fc2123",
   "metadata": {},
   "source": [
    "# Now let's train our guassian naive bayes classifier and see with how much much accuracy it is able to classify the target variables."
   ]
  },
  {
   "cell_type": "code",
   "execution_count": 10,
   "id": "25d41b02",
   "metadata": {},
   "outputs": [
    {
     "name": "stdout",
     "output_type": "stream",
     "text": [
      "Scikit-Learn's Gaussian Naive Bayes Classifier's prediction accuracy is: 90.91\n",
      "Time consumed for training: 0.007 seconds\n",
      "Time consumed for prediction: 0.00040 seconds\n"
     ]
    }
   ],
   "source": [
    "from sklearn.preprocessing import MaxAbsScaler\n",
    "scaler_gnb = MaxAbsScaler()\n",
    "sdss = scaler_gnb.fit_transform(sdss_df.drop('Landslide predictability', axis=1))\n",
    "X_train_gnb, X_test_gnb, y_train_gnb, y_test_gnb = train_test_split(sdss, sdss_df['Landslide predictability'], test_size=0.33)\n",
    "\n",
    "gnb = GaussianNB()\n",
    "training_start = time.perf_counter()\n",
    "gnb.fit(X_train_gnb, y_train_gnb)\n",
    "training_end = time.perf_counter()\n",
    "prediction_start = time.perf_counter()\n",
    "preds = gnb.predict(X_test_gnb)\n",
    "prediction_end = time.perf_counter()\n",
    "acc_gnb = (preds == y_test_gnb).sum().astype(float) / len(preds)*100\n",
    "gnb_train_time = training_end-training_start\n",
    "gnb_prediction_time = prediction_end-prediction_start\n",
    "print(\"Scikit-Learn's Gaussian Naive Bayes Classifier's prediction accuracy is: %3.2f\" % (acc_gnb))\n",
    "print(\"Time consumed for training: %4.3f seconds\" % (gnb_train_time))\n",
    "print(\"Time consumed for prediction: %6.5f seconds\" % (gnb_prediction_time))"
   ]
  },
  {
   "cell_type": "code",
   "execution_count": 12,
   "id": "42fedaaf",
   "metadata": {},
   "outputs": [
    {
     "data": {
      "text/plain": [
       "<AxesSubplot:>"
      ]
     },
     "execution_count": 12,
     "metadata": {},
     "output_type": "execute_result"
    },
    {
     "data": {
      "image/png": "[encoded data removed]",
      "text/plain": [
       "<Figure size 900x600 with 1 Axes>"
      ]
     },
     "metadata": {
      "needs_background": "light"
     },
     "output_type": "display_data"
    }
   ],
   "source": [
    "# Plot Confusion Matrix\n",
    "mat = confusion_matrix(preds, y_test_gnb)\n",
    "names = np.unique(preds)\n",
    "sns.heatmap(mat, square=True, annot=True, fmt='d', cbar=False,\n",
    "            xticklabels=names, yticklabels=names)"
   ]
  },
  {
   "cell_type": "markdown",
   "id": "f1d7f981",
   "metadata": {},
   "source": [
    "## Now we see that naive bayes classification algo is giving us accuracy of 90.91 which is also supported by the confusion matrix drawn.Hence naive bayes classification model is working pretty well for our dataset."
   ]
  },
  {
   "attachments": {
    "xgboost-classification-24tutorials.png": {
     "image/png": "[encoded data removed]"
    }
   },
   "cell_type": "markdown",
   "id": "77364981",
   "metadata": {},
   "source": [
    "# We will be using one more very strong classifcation model-XG Boost Classifier.Its working can be explained from the following figure![xgboost-classification-24tutorials.png](attachment:xgboost-classification-24tutorials.png)"
   ]
  },
  {
   "cell_type": "markdown",
   "id": "755705de",
   "metadata": {},
   "source": [
    "## Now lest's train our XG bosst classifier model ,predict using it and calculate its accuracy"
   ]
  },
  {
   "cell_type": "code",
   "execution_count": 13,
   "id": "c986cc8b",
   "metadata": {},
   "outputs": [
    {
     "name": "stderr",
     "output_type": "stream",
     "text": [
      "C:\\Users\\ajite\\anaconda3\\lib\\site-packages\\xgboost\\sklearn.py:1146: UserWarning: The use of label encoder in XGBClassifier is deprecated and will be removed in a future release. To remove this warning, do the following: 1) Pass option use_label_encoder=False when constructing XGBClassifier object; and 2) Encode your labels (y) as integers starting with 0, i.e. 0, 1, 2, ..., [num_class - 1].\n",
      "  warnings.warn(label_encoder_deprecation_msg, UserWarning)\n"
     ]
    },
    {
     "name": "stdout",
     "output_type": "stream",
     "text": [
      "[07:47:35] WARNING: C:/Users/Administrator/workspace/xgboost-win64_release_1.4.0/src/learner.cc:1095: Starting in XGBoost 1.3.0, the default evaluation metric used with the objective 'multi:softprob' was changed from 'merror' to 'mlogloss'. Explicitly set eval_metric if you'd like to restore the old behavior.\n",
      "XGBoost's prediction accuracy is: 92.42\n",
      "Time consumed for training: 1.332\n",
      "Time consumed for prediction: 0.00333 seconds\n"
     ]
    }
   ],
   "source": [
    "xgb = XGBClassifier(n_estimators=100)\n",
    "training_start = time.perf_counter()\n",
    "xgb.fit(X_train, y_train)\n",
    "training_end = time.perf_counter()\n",
    "prediction_start = time.perf_counter()\n",
    "preds = xgb.predict(X_test)\n",
    "prediction_end = time.perf_counter()\n",
    "acc_xgb = (preds == y_test).sum().astype(float) / len(preds)*100\n",
    "xgb_train_time = training_end-training_start\n",
    "xgb_prediction_time = prediction_end-prediction_start\n",
    "print(\"XGBoost's prediction accuracy is: %3.2f\" % (acc_xgb))\n",
    "print(\"Time consumed for training: %4.3f\" % (xgb_train_time))\n",
    "print(\"Time consumed for prediction: %6.5f seconds\" % (xgb_prediction_time))"
   ]
  },
  {
   "cell_type": "code",
   "execution_count": 14,
   "id": "b18b2cf4",
   "metadata": {},
   "outputs": [
    {
     "data": {
      "text/plain": [
       "<AxesSubplot:>"
      ]
     },
     "execution_count": 14,
     "metadata": {},
     "output_type": "execute_result"
    },
    {
     "data": {
      "image/png": "[encoded data removed]",
      "text/plain": [
       "<Figure size 900x600 with 1 Axes>"
      ]
     },
     "metadata": {
      "needs_background": "light"
     },
     "output_type": "display_data"
    }
   ],
   "source": [
    "# Plot Confusion Matrix\n",
    "mat = confusion_matrix(preds, y_test)\n",
    "names = np.unique(preds)\n",
    "sns.heatmap(mat, square=True, annot=True, fmt='d', cbar=False,\n",
    "            xticklabels=names, yticklabels=names)"
   ]
  },
  {
   "cell_type": "markdown",
   "id": "1f63d2bf",
   "metadata": {},
   "source": [
    "## So we are getting a accuracy of 92.42 justified by confusion matrix .Hence naive bayes and XG Boost will work very well for our Classification text."
   ]
  },
  {
   "cell_type": "markdown",
   "id": "1cffafc1",
   "metadata": {},
   "source": [
    "## Now lets try to improve the accuracy of K neighbour classifier by using 4 features .In this way we will also be able to hypertune our parameters."
   ]
  },
  {
   "cell_type": "code",
   "execution_count": 15,
   "id": "7594a166",
   "metadata": {},
   "outputs": [],
   "source": [
    "sdss_df = pd.read_csv('Classification - Sheet1.csv')"
   ]
  },
  {
   "cell_type": "code",
   "execution_count": 16,
   "id": "29bd3d0a",
   "metadata": {},
   "outputs": [
    {
     "data": {
      "text/html": [
       "<div>\n",
       "<style scoped>\n",
       "    .dataframe tbody tr th:only-of-type {\n",
       "        vertical-align: middle;\n",
       "    }\n",
       "\n",
       "    .dataframe tbody tr th {\n",
       "        vertical-align: top;\n",
       "    }\n",
       "\n",
       "    .dataframe thead th {\n",
       "        text-align: right;\n",
       "    }\n",
       "</style>\n",
       "<table border=\"1\" class=\"dataframe\">\n",
       "  <thead>\n",
       "    <tr style=\"text-align: right;\">\n",
       "      <th></th>\n",
       "      <th>Activity</th>\n",
       "      <th>Trigger and reason</th>\n",
       "      <th>Landslide volume</th>\n",
       "      <th>Cummulative Rainfall</th>\n",
       "      <th>Rainfall Intensity</th>\n",
       "      <th>Product</th>\n",
       "      <th>Landslide predictability</th>\n",
       "    </tr>\n",
       "  </thead>\n",
       "  <tbody>\n",
       "    <tr>\n",
       "      <th>0</th>\n",
       "      <td>Active</td>\n",
       "      <td>flooding</td>\n",
       "      <td>150</td>\n",
       "      <td>40.0</td>\n",
       "      <td>0.25</td>\n",
       "      <td>10.00</td>\n",
       "      <td>0</td>\n",
       "    </tr>\n",
       "    <tr>\n",
       "      <th>1</th>\n",
       "      <td>Reactivated</td>\n",
       "      <td>continous rainfall</td>\n",
       "      <td>200000</td>\n",
       "      <td>133.5</td>\n",
       "      <td>0.46</td>\n",
       "      <td>61.41</td>\n",
       "      <td>2</td>\n",
       "    </tr>\n",
       "    <tr>\n",
       "      <th>2</th>\n",
       "      <td>Active</td>\n",
       "      <td>flooding</td>\n",
       "      <td>600</td>\n",
       "      <td>40.0</td>\n",
       "      <td>0.40</td>\n",
       "      <td>16.00</td>\n",
       "      <td>0</td>\n",
       "    </tr>\n",
       "    <tr>\n",
       "      <th>3</th>\n",
       "      <td>Active</td>\n",
       "      <td>flooding</td>\n",
       "      <td>1000</td>\n",
       "      <td>55.0</td>\n",
       "      <td>0.70</td>\n",
       "      <td>38.50</td>\n",
       "      <td>1</td>\n",
       "    </tr>\n",
       "    <tr>\n",
       "      <th>4</th>\n",
       "      <td>Active</td>\n",
       "      <td>Heavy rain</td>\n",
       "      <td>3000</td>\n",
       "      <td>45.0</td>\n",
       "      <td>0.50</td>\n",
       "      <td>22.50</td>\n",
       "      <td>1</td>\n",
       "    </tr>\n",
       "  </tbody>\n",
       "</table>\n",
       "</div>"
      ],
      "text/plain": [
       "      Activity  Trigger and reason  Landslide volume  Cummulative Rainfall  \\\n",
       "0       Active            flooding               150                  40.0   \n",
       "1  Reactivated  continous rainfall            200000                 133.5   \n",
       "2       Active            flooding               600                  40.0   \n",
       "3       Active            flooding              1000                  55.0   \n",
       "4       Active          Heavy rain              3000                  45.0   \n",
       "\n",
       "   Rainfall Intensity  Product  Landslide predictability  \n",
       "0                0.25    10.00                         0  \n",
       "1                0.46    61.41                         2  \n",
       "2                0.40    16.00                         0  \n",
       "3                0.70    38.50                         1  \n",
       "4                0.50    22.50                         1  "
      ]
     },
     "execution_count": 16,
     "metadata": {},
     "output_type": "execute_result"
    }
   ],
   "source": [
    "sdss_df.head()"
   ]
  },
  {
   "cell_type": "markdown",
   "id": "b4e00426",
   "metadata": {},
   "source": [
    "## Here we see we are having just 5 features ."
   ]
  },
  {
   "cell_type": "code",
   "execution_count": 17,
   "id": "64017d00",
   "metadata": {},
   "outputs": [
    {
     "name": "stdout",
     "output_type": "stream",
     "text": [
      "Scikit-Learn's K Nearest Neighbors Classifier's prediction accuracy is: 84.85\n",
      "Time consumed for training: 0.001 seconds\n",
      "Time consumed for prediction: 0.00375 seconds\n"
     ]
    }
   ],
   "source": [
    "sdss_df.drop(['Activity','Trigger and reason'], axis=1, inplace=True)\n",
    "scaler = MinMaxScaler()\n",
    "sdss = scaler.fit_transform(sdss_df.drop('Landslide predictability', axis=1))\n",
    "X_train, X_test, y_train, y_test = train_test_split(sdss, sdss_df['Landslide predictability'], test_size=0.33)\n",
    "knn = KNeighborsClassifier()\n",
    "training_start = time.perf_counter()\n",
    "knn.fit(X_train, y_train)\n",
    "training_end = time.perf_counter()\n",
    "prediction_start = time.perf_counter()\n",
    "preds = knn.predict(X_test)\n",
    "prediction_end = time.perf_counter()\n",
    "acc_knn = (preds == y_test).sum().astype(float) / len(preds)*100\n",
    "knn_train_time = training_end-training_start\n",
    "knn_prediction_time = prediction_end-prediction_start\n",
    "print(\"Scikit-Learn's K Nearest Neighbors Classifier's prediction accuracy is: %3.2f\" % (acc_knn))\n",
    "print(\"Time consumed for training: %4.3f seconds\" % (knn_train_time))\n",
    "print(\"Time consumed for prediction: %6.5f seconds\" % (knn_prediction_time))"
   ]
  },
  {
   "cell_type": "markdown",
   "id": "48d76c33",
   "metadata": {},
   "source": [
    "## So by using these 5 features we were able to significantly improve the accuracy of of our k neighbour classifier model and hence we will be using these 5 input features in our regression models."
   ]
  },
  {
   "cell_type": "code",
   "execution_count": null,
   "id": "d884fe10",
   "metadata": {},
   "outputs": [],
   "source": []
  }
 ],
 "metadata": {
  "kernelspec": {
   "display_name": "Python 3",
   "language": "python",
   "name": "python3"
  },
  "language_info": {
   "codemirror_mode": {
    "name": "ipython",
    "version": 3
   },
   "file_extension": ".py",
   "mimetype": "text/x-python",
   "name": "python",
   "nbconvert_exporter": "python",
   "pygments_lexer": "ipython3",
   "version": "3.8.8"
  }
 },
 "nbformat": 4,
 "nbformat_minor": 5
}
